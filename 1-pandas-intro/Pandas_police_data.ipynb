{
 "cells": [
  {
   "cell_type": "code",
   "execution_count": 1,
   "metadata": {},
   "outputs": [],
   "source": [
    "import pandas as pd\n",
    "import numpy as np\n",
    "import matplotlib.pyplot as plt"
   ]
  },
  {
   "cell_type": "code",
   "execution_count": 2,
   "metadata": {},
   "outputs": [],
   "source": [
    "csv_file = '/Users/Greg/byteacademy/week2-day1/week2-day1/1-pandas-intro/cpuo.csv'\n",
    "csv_table = pd.read_csv(csv_file)"
   ]
  },
  {
   "cell_type": "code",
   "execution_count": null,
   "metadata": {
    "scrolled": true
   },
   "outputs": [],
   "source": [
    "csv_table"
   ]
  },
  {
   "cell_type": "code",
   "execution_count": null,
   "metadata": {},
   "outputs": [],
   "source": [
    "a = csv_table.iloc[17]\n",
    "a"
   ]
  },
  {
   "cell_type": "code",
   "execution_count": 4,
   "metadata": {
    "scrolled": true
   },
   "outputs": [
    {
     "data": {
      "text/html": [
       "<div>\n",
       "<style scoped>\n",
       "    .dataframe tbody tr th:only-of-type {\n",
       "        vertical-align: middle;\n",
       "    }\n",
       "\n",
       "    .dataframe tbody tr th {\n",
       "        vertical-align: top;\n",
       "    }\n",
       "\n",
       "    .dataframe thead th {\n",
       "        text-align: right;\n",
       "    }\n",
       "</style>\n",
       "<table border=\"1\" class=\"dataframe\">\n",
       "  <thead>\n",
       "    <tr style=\"text-align: right;\">\n",
       "      <th></th>\n",
       "      <th>Year</th>\n",
       "      <th>Ranking</th>\n",
       "      <th>Precinct / Command</th>\n",
       "      <th>Complaints Count</th>\n",
       "      <th>Number Of Subject Officers</th>\n",
       "    </tr>\n",
       "  </thead>\n",
       "  <tbody>\n",
       "    <tr>\n",
       "      <th>50</th>\n",
       "      <td>2011</td>\n",
       "      <td>17</td>\n",
       "      <td>Deputy Commissioners and Misc. Units</td>\n",
       "      <td>0</td>\n",
       "      <td>186</td>\n",
       "    </tr>\n",
       "    <tr>\n",
       "      <th>32</th>\n",
       "      <td>2010</td>\n",
       "      <td>16</td>\n",
       "      <td>Other Patrol Services Bureau Commands</td>\n",
       "      <td>3</td>\n",
       "      <td>203</td>\n",
       "    </tr>\n",
       "    <tr>\n",
       "      <th>15</th>\n",
       "      <td>2009</td>\n",
       "      <td>16</td>\n",
       "      <td>Other Patrol Services Bureau Commands</td>\n",
       "      <td>3</td>\n",
       "      <td>189</td>\n",
       "    </tr>\n",
       "    <tr>\n",
       "      <th>13</th>\n",
       "      <td>2009</td>\n",
       "      <td>14</td>\n",
       "      <td>Special Operations Division</td>\n",
       "      <td>16</td>\n",
       "      <td>741</td>\n",
       "    </tr>\n",
       "    <tr>\n",
       "      <th>30</th>\n",
       "      <td>2010</td>\n",
       "      <td>14</td>\n",
       "      <td>Special Operations Division</td>\n",
       "      <td>18</td>\n",
       "      <td>764</td>\n",
       "    </tr>\n",
       "  </tbody>\n",
       "</table>\n",
       "</div>"
      ],
      "text/plain": [
       "    Year  Ranking                     Precinct / Command  Complaints Count  \\\n",
       "50  2011       17   Deputy Commissioners and Misc. Units                 0   \n",
       "32  2010       16  Other Patrol Services Bureau Commands                 3   \n",
       "15  2009       16  Other Patrol Services Bureau Commands                 3   \n",
       "13  2009       14            Special Operations Division                16   \n",
       "30  2010       14            Special Operations Division                18   \n",
       "\n",
       "    Number Of Subject Officers  \n",
       "50                         186  \n",
       "32                         203  \n",
       "15                         189  \n",
       "13                         741  \n",
       "30                         764  "
      ]
     },
     "execution_count": 4,
     "metadata": {},
     "output_type": "execute_result"
    }
   ],
   "source": [
    "b = csv_table.sort_values(by=\"Complaints Count\")\n",
    "b = b.head()\n",
    "b"
   ]
  },
  {
   "cell_type": "code",
   "execution_count": null,
   "metadata": {
    "scrolled": true
   },
   "outputs": [],
   "source": [
    "c = csv_table[\"Complaints Count\"].min()\n",
    "c"
   ]
  },
  {
   "cell_type": "code",
   "execution_count": 5,
   "metadata": {},
   "outputs": [
    {
     "data": {
      "text/plain": [
       "Year\n",
       "2009    34446\n",
       "2010    34557\n",
       "2011    34430\n",
       "Name: Number Of Subject Officers, dtype: int64"
      ]
     },
     "execution_count": 5,
     "metadata": {},
     "output_type": "execute_result"
    }
   ],
   "source": [
    "d = csv_table.groupby([\"Year\"])[\"Number Of Subject Officers\"].sum()\n",
    "d"
   ]
  },
  {
   "cell_type": "code",
   "execution_count": 7,
   "metadata": {
    "scrolled": true
   },
   "outputs": [
    {
     "data": {
      "text/html": [
       "<div>\n",
       "<style scoped>\n",
       "    .dataframe tbody tr th:only-of-type {\n",
       "        vertical-align: middle;\n",
       "    }\n",
       "\n",
       "    .dataframe tbody tr th {\n",
       "        vertical-align: top;\n",
       "    }\n",
       "\n",
       "    .dataframe thead tr th {\n",
       "        text-align: left;\n",
       "    }\n",
       "\n",
       "    .dataframe thead tr:last-of-type th {\n",
       "        text-align: right;\n",
       "    }\n",
       "</style>\n",
       "<table border=\"1\" class=\"dataframe\">\n",
       "  <thead>\n",
       "    <tr>\n",
       "      <th></th>\n",
       "      <th colspan=\"8\" halign=\"left\">Complaints Count</th>\n",
       "      <th colspan=\"5\" halign=\"left\">Number Of Subject Officers</th>\n",
       "      <th colspan=\"8\" halign=\"left\">Ranking</th>\n",
       "    </tr>\n",
       "    <tr>\n",
       "      <th></th>\n",
       "      <th>count</th>\n",
       "      <th>mean</th>\n",
       "      <th>std</th>\n",
       "      <th>min</th>\n",
       "      <th>25%</th>\n",
       "      <th>50%</th>\n",
       "      <th>75%</th>\n",
       "      <th>max</th>\n",
       "      <th>count</th>\n",
       "      <th>mean</th>\n",
       "      <th>...</th>\n",
       "      <th>75%</th>\n",
       "      <th>max</th>\n",
       "      <th>count</th>\n",
       "      <th>mean</th>\n",
       "      <th>std</th>\n",
       "      <th>min</th>\n",
       "      <th>25%</th>\n",
       "      <th>50%</th>\n",
       "      <th>75%</th>\n",
       "      <th>max</th>\n",
       "    </tr>\n",
       "    <tr>\n",
       "      <th>Year</th>\n",
       "      <th></th>\n",
       "      <th></th>\n",
       "      <th></th>\n",
       "      <th></th>\n",
       "      <th></th>\n",
       "      <th></th>\n",
       "      <th></th>\n",
       "      <th></th>\n",
       "      <th></th>\n",
       "      <th></th>\n",
       "      <th></th>\n",
       "      <th></th>\n",
       "      <th></th>\n",
       "      <th></th>\n",
       "      <th></th>\n",
       "      <th></th>\n",
       "      <th></th>\n",
       "      <th></th>\n",
       "      <th></th>\n",
       "      <th></th>\n",
       "      <th></th>\n",
       "    </tr>\n",
       "  </thead>\n",
       "  <tbody>\n",
       "    <tr>\n",
       "      <th>2009</th>\n",
       "      <td>17.0</td>\n",
       "      <td>250.176471</td>\n",
       "      <td>213.348962</td>\n",
       "      <td>3.0</td>\n",
       "      <td>66.0</td>\n",
       "      <td>212.0</td>\n",
       "      <td>294.0</td>\n",
       "      <td>772.0</td>\n",
       "      <td>17.0</td>\n",
       "      <td>2026.235294</td>\n",
       "      <td>...</td>\n",
       "      <td>2604.0</td>\n",
       "      <td>3432.0</td>\n",
       "      <td>17.0</td>\n",
       "      <td>9.0</td>\n",
       "      <td>5.049752</td>\n",
       "      <td>1.0</td>\n",
       "      <td>5.0</td>\n",
       "      <td>9.0</td>\n",
       "      <td>13.0</td>\n",
       "      <td>17.0</td>\n",
       "    </tr>\n",
       "    <tr>\n",
       "      <th>2010</th>\n",
       "      <td>17.0</td>\n",
       "      <td>259.823529</td>\n",
       "      <td>237.343695</td>\n",
       "      <td>3.0</td>\n",
       "      <td>61.0</td>\n",
       "      <td>184.0</td>\n",
       "      <td>331.0</td>\n",
       "      <td>887.0</td>\n",
       "      <td>17.0</td>\n",
       "      <td>2032.764706</td>\n",
       "      <td>...</td>\n",
       "      <td>2616.0</td>\n",
       "      <td>3433.0</td>\n",
       "      <td>17.0</td>\n",
       "      <td>9.0</td>\n",
       "      <td>5.049752</td>\n",
       "      <td>1.0</td>\n",
       "      <td>5.0</td>\n",
       "      <td>9.0</td>\n",
       "      <td>13.0</td>\n",
       "      <td>17.0</td>\n",
       "    </tr>\n",
       "    <tr>\n",
       "      <th>2011</th>\n",
       "      <td>17.0</td>\n",
       "      <td>250.000000</td>\n",
       "      <td>217.561486</td>\n",
       "      <td>0.0</td>\n",
       "      <td>60.0</td>\n",
       "      <td>211.0</td>\n",
       "      <td>351.0</td>\n",
       "      <td>797.0</td>\n",
       "      <td>17.0</td>\n",
       "      <td>2025.294118</td>\n",
       "      <td>...</td>\n",
       "      <td>2567.0</td>\n",
       "      <td>4037.0</td>\n",
       "      <td>17.0</td>\n",
       "      <td>9.0</td>\n",
       "      <td>5.049752</td>\n",
       "      <td>1.0</td>\n",
       "      <td>5.0</td>\n",
       "      <td>9.0</td>\n",
       "      <td>13.0</td>\n",
       "      <td>17.0</td>\n",
       "    </tr>\n",
       "  </tbody>\n",
       "</table>\n",
       "<p>3 rows × 24 columns</p>\n",
       "</div>"
      ],
      "text/plain": [
       "     Complaints Count                                                          \\\n",
       "                count        mean         std  min   25%    50%    75%    max   \n",
       "Year                                                                            \n",
       "2009             17.0  250.176471  213.348962  3.0  66.0  212.0  294.0  772.0   \n",
       "2010             17.0  259.823529  237.343695  3.0  61.0  184.0  331.0  887.0   \n",
       "2011             17.0  250.000000  217.561486  0.0  60.0  211.0  351.0  797.0   \n",
       "\n",
       "     Number Of Subject Officers               ...                  Ranking  \\\n",
       "                          count         mean  ...      75%     max   count   \n",
       "Year                                          ...                            \n",
       "2009                       17.0  2026.235294  ...   2604.0  3432.0    17.0   \n",
       "2010                       17.0  2032.764706  ...   2616.0  3433.0    17.0   \n",
       "2011                       17.0  2025.294118  ...   2567.0  4037.0    17.0   \n",
       "\n",
       "                                                \n",
       "     mean       std  min  25%  50%   75%   max  \n",
       "Year                                            \n",
       "2009  9.0  5.049752  1.0  5.0  9.0  13.0  17.0  \n",
       "2010  9.0  5.049752  1.0  5.0  9.0  13.0  17.0  \n",
       "2011  9.0  5.049752  1.0  5.0  9.0  13.0  17.0  \n",
       "\n",
       "[3 rows x 24 columns]"
      ]
     },
     "execution_count": 7,
     "metadata": {},
     "output_type": "execute_result"
    }
   ],
   "source": [
    "e = csv_table.groupby([\"Year\"]).describe()\n",
    "e"
   ]
  },
  {
   "cell_type": "code",
   "execution_count": null,
   "metadata": {
    "scrolled": true
   },
   "outputs": [],
   "source": [
    "f = csv_table.groupby([\"Year\"])[\"Complaints Count\"].mean()\n",
    "f = f.sort_values()\n",
    "f"
   ]
  },
  {
   "cell_type": "code",
   "execution_count": null,
   "metadata": {},
   "outputs": [],
   "source": []
  }
 ],
 "metadata": {
  "kernelspec": {
   "display_name": "Python 3",
   "language": "python",
   "name": "python3"
  },
  "language_info": {
   "codemirror_mode": {
    "name": "ipython",
    "version": 3
   },
   "file_extension": ".py",
   "mimetype": "text/x-python",
   "name": "python",
   "nbconvert_exporter": "python",
   "pygments_lexer": "ipython3",
   "version": "3.6.4"
  }
 },
 "nbformat": 4,
 "nbformat_minor": 2
}
